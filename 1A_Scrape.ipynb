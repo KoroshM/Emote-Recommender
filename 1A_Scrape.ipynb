{
 "cells": [
  {
   "cell_type": "code",
   "execution_count": null,
   "metadata": {},
   "outputs": [],
   "source": [
    "import pandas as pd\n",
    "import os\n",
    "import subprocess\n",
    "\n",
    "# A list of the channels you want to download data for, one channel name per line\n",
    "channels = pd.read_csv('PATH/TO/channel_names.txt', delimiter='\\n', header=None)\n",
    "\n",
    "# These are official Twitch API keys you can get from https://dev.twitch.tv/console by registering an application\n",
    "CLIENT_ID = 'PUT YOUR CLIENT ID HERE'\n",
    "CLIENT_SECRET = 'PUT YOUR CLIENT SECRET HERE'\n",
    "\n",
    "OUTPUT_PATH = 'PATH/TO/THIS/PROJECT/Downloads/My Scrapes/' # Ex: C:/User/Projects/EmoteRecommender/Downloads/My Scrapes/"
   ]
  },
  {
   "cell_type": "code",
   "execution_count": null,
   "metadata": {},
   "outputs": [],
   "source": [
    "\"\"\"\n",
    "This portion requires the following module from GitHub:\n",
    "Twitch Chat Downloader - https://github.com/PetterKraabol/Twitch-Chat-Downloader\n",
    "\"\"\"\n",
    "\n",
    "# Download chat logs from the channel's saved VODs\n",
    "num_vods = 10\n",
    "\n",
    "for streamer in channels[0]:\n",
    "    print('Downloading VOD chats from ' + streamer)\n",
    "\n",
    "    # Call the tcd module using your system\n",
    "    os.system('tcd --channel ' + streamer + \\\n",
    "        ' --first=' + str(num_vods) + \\\n",
    "        ' --output_PATH \"' + OUTPUT_PATH + streamer + '\"')"
   ]
  },
  {
   "attachments": {},
   "cell_type": "markdown",
   "metadata": {},
   "source": [
    "# Note\n",
    "Be sure to run the downloaded chat logs through regex_to_csv.sh to convert the .txt files to .csv so it works with the rest of the files in this project.\n",
    "\n",
    "The script uses 'FILES=\"./data/\\*/\\*.txt\"' to locate files, so make sure your file structure is compatible or edit this line in the script."
   ]
  },
  {
   "cell_type": "code",
   "execution_count": null,
   "metadata": {},
   "outputs": [],
   "source": [
    "\"\"\"\n",
    "This portion requires the following module from GitHub:\n",
    "EmoteDownloader - https://github.com/Daniel2193/EmoteDownloader\n",
    "\n",
    "Note that this repository requires that you build the program from the source code, as it does not come with a .dll or .exe\n",
    "\"\"\"\n",
    "\n",
    "# Download channel emotes\n",
    "skip = True\n",
    "\n",
    "for streamer in channels[0]:\n",
    "    # if [Error handling condition]:\n",
    "    #     skip = False\n",
    "    # if skip:\n",
    "    #     continue\n",
    "\n",
    "    print('Downloading emotes from ' + streamer)\n",
    "    folder = OUTPUT_PATH + streamer\n",
    "    #os.makedirs(folder[1:], exist_ok=True)\n",
    "\n",
    "    console_command = 'dotnet \"PATH/TO/EmoteDownloader.dll\" --client_id ' + CLIENT_ID + ' --client_secret ' + CLIENT_SECRET + \\\n",
    "        ' --channel_names ' + streamer + \\\n",
    "        ' --output_dir ' + folder + '/\"'\n",
    "\n",
    "    try:\n",
    "        subprocess.run(console_command + ' -p twitch', shell=True, check=True)\n",
    "        #print(console_command + ' -p twitch')\n",
    "    except:\n",
    "        print('Error:',streamer,'twitch')\n",
    "\n",
    "    try:\n",
    "        subprocess.run(console_command + ' -p bttv', shell=True, check=True)\n",
    "        #print(console_command + ' -p bttv')\n",
    "    except:\n",
    "        print('Error:',streamer,'bttv')\n",
    "    \n",
    "    # !!! FFZ doesn't work with this module, do it manually in the next cell instead\n",
    "    # try:\n",
    "    #     subprocess.run(console_command + ' -p ffz', shell=True, check=True)\n",
    "    #     #print(console_command + ' -p ffz')\n",
    "    # except:\n",
    "    #     print('Error:',streamer,'ffz')"
   ]
  },
  {
   "cell_type": "code",
   "execution_count": null,
   "metadata": {},
   "outputs": [],
   "source": [
    "import requests\n",
    "import time\n",
    "\n",
    "ffz_emotes = {}\n",
    "\n",
    "for channel_name in channels[0]:\n",
    "    # Fetch the channel ID\n",
    "    response = requests.get(f\"https://api.frankerfacez.com/v1/room/{channel_name}\")\n",
    "\n",
    "    # Hit the rate limit\n",
    "    while response.status_code == 429:\n",
    "        # Retry after some time\n",
    "        print(\"API rate limit exceeded. Retrying after 60 seconds...\")\n",
    "        time.sleep(60)\n",
    "        response = requests.get(f\"https://api.frankerfacez.com/v1/room/{channel_name}\")\n",
    "\n",
    "    if response.status_code != 200:\n",
    "        print(f\"Could not find ID for channel '{channel_name}'\")\n",
    "    else:\n",
    "        # Parse response and fetch the emotes for the channel\n",
    "        data = response.json()\n",
    "        set_id = data.get(\"room\", {}).get(\"set\", {})\n",
    "        emotes = data.get(\"sets\", {}).get(f'{set_id}', {}).get(\"emoticons\", [])\n",
    "\n",
    "        # Save emotes per channel\n",
    "        emote_list = set()\n",
    "        for emote in emotes:\n",
    "            # print(f\"Emote code: {emote.get('name')}, ID: {emote.get('id')}\")\n",
    "            emote_list.add(emote.get('name'))\n",
    "\n",
    "        ffz_emotes[channel_name] = emote_list"
   ]
  },
  {
   "cell_type": "code",
   "execution_count": 19,
   "metadata": {},
   "outputs": [],
   "source": [
    "# Might as well build the FFZ emote registry while we have everything loaded in memory\n",
    "import pickle\n",
    "\n",
    "df = pd.DataFrame.from_dict(ffz_emotes, orient='index').T\n",
    "\n",
    "with open('ffz_dict','wb') as f:\n",
    "    pickle.dump(df,f)"
   ]
  }
 ],
 "metadata": {
  "kernelspec": {
   "display_name": "Python 3",
   "language": "python",
   "name": "python3"
  },
  "language_info": {
   "codemirror_mode": {
    "name": "ipython",
    "version": 3
   },
   "file_extension": ".py",
   "mimetype": "text/x-python",
   "name": "python",
   "nbconvert_exporter": "python",
   "pygments_lexer": "ipython3",
   "version": "3.9.13"
  },
  "orig_nbformat": 4,
  "vscode": {
   "interpreter": {
    "hash": "a3deea60006abea4783390f213adebd6836966db637e5dfe493c1abe5c82560f"
   }
  }
 },
 "nbformat": 4,
 "nbformat_minor": 2
}
