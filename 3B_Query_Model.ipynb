{
 "cells": [
  {
   "attachments": {},
   "cell_type": "markdown",
   "metadata": {},
   "source": [
    "These are some sample queries that Word2Vec can do to compare the embeddings of words in various ways. Most of these examples are included in the project paper."
   ]
  },
  {
   "cell_type": "code",
   "execution_count": 2,
   "metadata": {},
   "outputs": [],
   "source": [
    "import gensim\n",
    "from pprint import pprint\n",
    "\n",
    "\n",
    "model_dir = r\"PATH/TO/MODELS/twitch_500_20e/model\"\n",
    "\n",
    "model = gensim.models.word2vec.Word2Vec.load(model_dir)\n",
    "my_embed = model.wv\n",
    "del model"
   ]
  },
  {
   "cell_type": "code",
   "execution_count": 1,
   "metadata": {},
   "outputs": [],
   "source": [
    "model_dir = r\"PATH/TO/EmoteControlled/embedding/embedding\"\n",
    "\n",
    "model = gensim.models.word2vec.Word2Vec.load(model_dir)\n",
    "ec_embed = model.wv\n",
    "del model"
   ]
  },
  {
   "attachments": {},
   "cell_type": "markdown",
   "metadata": {},
   "source": [
    "# Odd Word Out"
   ]
  },
  {
   "cell_type": "code",
   "execution_count": 123,
   "metadata": {},
   "outputs": [
    {
     "name": "stdout",
     "output_type": "stream",
     "text": [
      "youtube, twitch, instagram:\n",
      "Early 2018:\n",
      "'instagram'\n",
      "\n",
      "Late 2022:\n",
      "'instagram'\n"
     ]
    }
   ],
   "source": [
    "# Odd word out\n",
    "word1 = 'youtube'\n",
    "word2 = 'twitch'\n",
    "word3 = 'instagram'\n",
    "\n",
    "print(f\"{word1}, {word2}, {word3}:\")\n",
    "print('Early 2018:')\n",
    "pprint(ec_embed.doesnt_match([word1, word2, word3]))\n",
    "print('\\nLate 2022:')\n",
    "pprint(my_embed.doesnt_match([word1, word2, word3]))"
   ]
  },
  {
   "cell_type": "code",
   "execution_count": 120,
   "metadata": {},
   "outputs": [
    {
     "name": "stdout",
     "output_type": "stream",
     "text": [
      "halo, destiny, minecraft:\n",
      "Early 2018:\n",
      "'minecraft'\n",
      "\n",
      "Late 2022:\n",
      "'minecraft'\n"
     ]
    }
   ],
   "source": [
    "# Odd word out\n",
    "word1 = 'halo'\n",
    "word2 = 'destiny'\n",
    "word3 = 'minecraft'\n",
    "\n",
    "print(f\"{word1}, {word2}, {word3}:\")\n",
    "print('Early 2018:')\n",
    "pprint(ec_embed.doesnt_match([word1, word2, word3]))\n",
    "print('\\nLate 2022:')\n",
    "pprint(my_embed.doesnt_match([word1, word2, word3]))"
   ]
  },
  {
   "attachments": {},
   "cell_type": "markdown",
   "metadata": {},
   "source": [
    "# Other words in same context"
   ]
  },
  {
   "cell_type": "code",
   "execution_count": 77,
   "metadata": {},
   "outputs": [
    {
     "name": "stdout",
     "output_type": "stream",
     "text": [
      "monday, tuesday, wednesday:\n",
      "Early 2018:\n",
      "[('thursday', 0.9577841758728027),\n",
      " ('saturday', 0.9165282249450684),\n",
      " ('sunday', 0.907137393951416),\n",
      " ('friday', 0.8335966467857361),\n",
      " ('tomorrow', 0.7105387449264526)]\n",
      "\n",
      "Late 2022:\n",
      "[('thursday', 0.7666406631469727),\n",
      " ('saturday', 0.7345103621482849),\n",
      " ('sunday', 0.712386965751648),\n",
      " ('friday', 0.6353601813316345),\n",
      " ('thrusday', 0.47483497858047485)]\n"
     ]
    }
   ],
   "source": [
    "# Other words within this context\n",
    "word1 = 'monday'\n",
    "word2 = 'tuesday'\n",
    "word3 = 'wednesday'\n",
    "\n",
    "print(f\"{word1}, {word2}, {word3}:\")\n",
    "print('Early 2018:')\n",
    "pprint(ec_embed.most_similar_cosmul([word1, word2, word3], topn=5))\n",
    "print('\\nLate 2022:')\n",
    "pprint(my_embed.most_similar_cosmul([word1, word2, word3], topn=5))"
   ]
  },
  {
   "cell_type": "code",
   "execution_count": 86,
   "metadata": {},
   "outputs": [
    {
     "name": "stdout",
     "output_type": "stream",
     "text": [
      "halo, battlefield, cod:\n",
      "Early 2018:\n",
      "[('titanfall', 0.7009791135787964),\n",
      " ('battlefront', 0.7005841732025146),\n",
      " ('destiny', 0.6946454644203186),\n",
      " ('gow', 0.6763774156570435),\n",
      " ('borderlands', 0.6754363775253296)]\n",
      "\n",
      "Late 2022:\n",
      "[('mw2', 0.42584699392318726),\n",
      " ('warzone', 0.4224894046783447),\n",
      " ('wz', 0.40713760256767273),\n",
      " ('pubg', 0.40599527955055237),\n",
      " ('overwatch', 0.39819079637527466)]\n"
     ]
    }
   ],
   "source": [
    "# Other words within this context\n",
    "word1 = 'halo'\n",
    "word2 = 'battlefield'\n",
    "word3 = 'cod'\n",
    "\n",
    "print(f\"{word1}, {word2}, {word3}:\")\n",
    "print('Early 2018:')\n",
    "pprint(ec_embed.most_similar_cosmul([word1, word2, word3], topn=5))\n",
    "print('\\nLate 2022:')\n",
    "pprint(my_embed.most_similar_cosmul([word1, word2, word3], topn=5))"
   ]
  },
  {
   "cell_type": "code",
   "execution_count": 87,
   "metadata": {},
   "outputs": [
    {
     "name": "stdout",
     "output_type": "stream",
     "text": [
      "hasan, xqc, mizkif:\n",
      "Early 2018:\n",
      "[('poki', 0.3933767080307007),\n",
      " ('tyler1', 0.37368881702423096),\n",
      " ('caden', 0.3709830641746521),\n",
      " ('alex', 0.3645510673522949),\n",
      " ('tyler', 0.3628367483615875)]\n",
      "\n",
      "Late 2022:\n",
      "[('miz', 0.4279533922672272),\n",
      " ('erobb', 0.4117581844329834),\n",
      " ('ludwig', 0.4075615704059601),\n",
      " ('adin', 0.40582212805747986),\n",
      " ('esfand', 0.4053257703781128)]\n"
     ]
    }
   ],
   "source": [
    "# Other words within this context\n",
    "word1 = 'hasan'\n",
    "word2 = 'xqc'\n",
    "word3 = 'mizkif'\n",
    "\n",
    "print(f\"{word1}, {word2}, {word3}:\")\n",
    "print('Early 2018:')\n",
    "pprint(ec_embed.most_similar_cosmul([word1, word2, word3], topn=5))\n",
    "print('\\nLate 2022:')\n",
    "pprint(my_embed.most_similar_cosmul([word1, word2, word3], topn=5))"
   ]
  },
  {
   "attachments": {},
   "cell_type": "markdown",
   "metadata": {},
   "source": [
    "# A -> B as C -> ___"
   ]
  },
  {
   "cell_type": "code",
   "execution_count": 60,
   "metadata": {},
   "outputs": [
    {
     "name": "stdout",
     "output_type": "stream",
     "text": [
      "man relates to woman as king to _____\n",
      "Early 2018:\n",
      "[('queen', 0.9875078201293945),\n",
      " ('princess', 0.9762540459632874),\n",
      " ('prince', 0.9511711597442627),\n",
      " ('murderer', 0.9334140419960022),\n",
      " ('shepard', 0.9321715831756592)]\n",
      "\n",
      "Late 2022:\n",
      "[('queen', 0.8871447443962097),\n",
      " ('queens', 0.8037395477294922),\n",
      " ('goddess', 0.7729969024658203),\n",
      " (\"king's\", 0.7706203460693359),\n",
      " ('prince', 0.7612332105636597)]\n"
     ]
    }
   ],
   "source": [
    "## Word relations\n",
    "word1 = 'man'\n",
    "word11 = 'woman'\n",
    "\n",
    "word2 = 'king'\n",
    "\n",
    "print(f\"{word1} relates to {word11} as {word2} to _____\")\n",
    "print('Early 2018:')\n",
    "pprint(ec_embed.most_similar_cosmul(positive=[word2, word11], negative=[word1],topn=5))\n",
    "print('\\nLate 2022:')\n",
    "pprint(my_embed.most_similar_cosmul(positive=[word2, word11], negative=[word1],topn=5))"
   ]
  },
  {
   "cell_type": "code",
   "execution_count": 73,
   "metadata": {},
   "outputs": [
    {
     "name": "stdout",
     "output_type": "stream",
     "text": [
      ":) relates to :( as FeelsGoodMan to _____\n",
      "Early 2018:\n",
      "[('FeelsBadMan', 0.9389158487319946),\n",
      " ('roofeels', 0.8735018968582153),\n",
      " ('NotLikeThis', 0.8671714663505554),\n",
      " ('#notmycloud9', 0.8551284670829773),\n",
      " ('feelsbadman', 0.8447734713554382)]\n",
      "\n",
      "Late 2022:\n",
      "[('FeelsBadMan', 0.9865471124649048),\n",
      " ('PepeHands', 0.85306316614151),\n",
      " ('sadge', 0.8340296149253845),\n",
      " ('peeposad', 0.8284163475036621),\n",
      " ('smoge', 0.8052573204040527)]\n"
     ]
    }
   ],
   "source": [
    "## Word relations\n",
    "word1 = ':)'\n",
    "word11 = ':('\n",
    "\n",
    "word2 = 'FeelsGoodMan'\n",
    "\n",
    "print(f\"{word1} relates to {word11} as {word2} to _____\")\n",
    "print('Early 2018:')\n",
    "pprint(ec_embed.most_similar_cosmul(positive=[word2, word11], negative=[word1],topn=5))\n",
    "print('\\nLate 2022:')\n",
    "pprint(my_embed.most_similar_cosmul(positive=[word2, word11], negative=[word1],topn=5))"
   ]
  },
  {
   "cell_type": "code",
   "execution_count": 116,
   "metadata": {},
   "outputs": [
    {
     "name": "stdout",
     "output_type": "stream",
     "text": [
      "sekiro relates to singleplayer as halo to _____\n",
      "Early 2018:\n",
      "[('multiplayer', 1.0128192901611328),\n",
      " ('frontlines', 0.993749737739563),\n",
      " ('co-op', 0.9850131273269653),\n",
      " ('mcc', 0.9829264879226685),\n",
      " ('sandbox', 0.9821550250053406)]\n",
      "\n",
      "Late 2022:\n",
      "[('multiplayer', 0.831718921661377),\n",
      " ('mulitplayer', 0.7799060940742493),\n",
      " ('cod', 0.7712476849555969),\n",
      " ('4v4', 0.7586734890937805),\n",
      " ('co-op', 0.7517169713973999)]\n"
     ]
    }
   ],
   "source": [
    "## Word relations\n",
    "word1 = 'sekiro'\n",
    "word11 = 'singleplayer'\n",
    "\n",
    "word2 = 'halo'\n",
    "\n",
    "print(f\"{word1} relates to {word11} as {word2} to _____\")\n",
    "print('Early 2018:')\n",
    "pprint(ec_embed.most_similar_cosmul(positive=[word2, word11], negative=[word1],topn=5))\n",
    "print('\\nLate 2022:')\n",
    "pprint(my_embed.most_similar_cosmul(positive=[word2, word11], negative=[word1],topn=5))"
   ]
  },
  {
   "cell_type": "code",
   "execution_count": 113,
   "metadata": {},
   "outputs": [
    {
     "name": "stdout",
     "output_type": "stream",
     "text": [
      "witcher relates to geralt as dbz to _____\n",
      "Early 2018:\n",
      "[('krillin', 1.1277506351470947),\n",
      " ('gohan', 1.1147927045822144),\n",
      " ('yamcha', 1.0909305810928345),\n",
      " ('hinata', 1.0903247594833374),\n",
      " ('bakugo', 1.0854500532150269)]\n",
      "\n",
      "Late 2022:\n",
      "[('goku', 0.906746506690979),\n",
      " ('vegeta', 0.8936079144477844),\n",
      " ('frieza', 0.8789056539535522),\n",
      " ('kakashi', 0.8565698862075806),\n",
      " ('piccolo', 0.8423339128494263)]\n"
     ]
    }
   ],
   "source": [
    "## Word relations\n",
    "word1 = 'witcher'\n",
    "word11 = 'geralt'\n",
    "\n",
    "word2 = 'dbz'\n",
    "\n",
    "print(f\"{word1} relates to {word11} as {word2} to _____\")\n",
    "print('Early 2018:')\n",
    "pprint(ec_embed.most_similar_cosmul(positive=[word2, word11], negative=[word1],topn=5))\n",
    "print('\\nLate 2022:')\n",
    "pprint(my_embed.most_similar_cosmul(positive=[word2, word11], negative=[word1],topn=5))"
   ]
  },
  {
   "attachments": {},
   "cell_type": "markdown",
   "metadata": {},
   "source": [
    "# Word Similarity"
   ]
  },
  {
   "attachments": {},
   "cell_type": "markdown",
   "metadata": {},
   "source": [
    "New words"
   ]
  },
  {
   "cell_type": "code",
   "execution_count": 35,
   "metadata": {},
   "outputs": [
    {
     "name": "stdout",
     "output_type": "stream",
     "text": [
      "Word = tiktok\n",
      "Early 2018:\n",
      "[('🕚', 0.6714262366294861),\n",
      " ('🕣', 0.6463980078697205),\n",
      " ('🕢', 0.6357600688934326),\n",
      " ('🕞', 0.6341347694396973),\n",
      " ('🕠', 0.6330246329307556)]\n",
      "\n",
      "Late 2022:\n",
      "[('tik', 0.7353744506835938),\n",
      " ('tok', 0.7287505865097046),\n",
      " ('twitter', 0.7192186713218689),\n",
      " ('youtube', 0.7173717021942139),\n",
      " ('facebook', 0.6878344416618347)]\n"
     ]
    }
   ],
   "source": [
    "word = 'tiktok'\n",
    "print(f'Word = {word}')\n",
    "print('Early 2018:')\n",
    "pprint(ec_embed.most_similar(word, topn=5))\n",
    "print('\\nLate 2022:')\n",
    "pprint(my_embed.most_similar(word, topn=5))"
   ]
  },
  {
   "cell_type": "code",
   "execution_count": 34,
   "metadata": {},
   "outputs": [
    {
     "name": "stdout",
     "output_type": "stream",
     "text": [
      "Word = covid\n",
      "Early 2018:\n",
      "[('shenkiz', 0.8626444935798645),\n",
      " ('spedwithmeds', 0.8553473353385925),\n",
      " ('purplecraze1', 0.8546385765075684),\n",
      " ('prophetstorm', 0.854583203792572),\n",
      " ('kuningasest', 0.8535624742507935)]\n",
      "\n",
      "Late 2022:\n",
      "[('flu', 0.6742793321609497),\n",
      " ('rona', 0.6223848462104797),\n",
      " ('pandemic', 0.5910007357597351),\n",
      " ('bronchitis', 0.5708175897598267),\n",
      " ('strep', 0.5706968307495117)]\n"
     ]
    }
   ],
   "source": [
    "word = 'covid'\n",
    "print(f'Word = {word}')\n",
    "print('Early 2018:')\n",
    "pprint(ec_embed.most_similar(word, topn=5))\n",
    "print('\\nLate 2022:')\n",
    "pprint(my_embed.most_similar(word, topn=5))"
   ]
  },
  {
   "cell_type": "code",
   "execution_count": 62,
   "metadata": {},
   "outputs": [
    {
     "name": "stdout",
     "output_type": "stream",
     "text": [
      "Word = sadge\n",
      "Early 2018:\n",
      "[('gjore', 0.9402377605438232),\n",
      " ('gjorder', 0.9352293610572815),\n",
      " ('mumler', 0.9276406168937683),\n",
      " ('misforstår', 0.9257854223251343),\n",
      " ('failede', 0.9248456954956055)]\n",
      "\n",
      "Late 2022:\n",
      "[(':(', 0.798589289188385),\n",
      " ('PepeHands', 0.7551366090774536),\n",
      " ('smoge', 0.7036895155906677),\n",
      " ('peeposad', 0.6771226525306702),\n",
      " ('FeelsBadMan', 0.6268635988235474)]\n"
     ]
    }
   ],
   "source": [
    "word = 'sadge'\n",
    "print(f'Word = {word}')\n",
    "print('Early 2018:')\n",
    "pprint(ec_embed.most_similar(word, topn=5))\n",
    "print('\\nLate 2022:')\n",
    "pprint(my_embed.most_similar(word, topn=5))"
   ]
  },
  {
   "cell_type": "code",
   "execution_count": 63,
   "metadata": {},
   "outputs": [
    {
     "name": "stdout",
     "output_type": "stream",
     "text": [
      "Word = ong\n",
      "Early 2018:\n",
      "[('tran', 0.5921935439109802),\n",
      " ('rea', 0.5333951115608215),\n",
      " ('kent', 0.5145621299743652),\n",
      " ('phill', 0.5145235061645508),\n",
      " ('maud', 0.5090656280517578)]\n",
      "\n",
      "Late 2022:\n",
      "[('fr', 0.6783689856529236),\n",
      " ('frfr', 0.6468927264213562),\n",
      " ('ngl', 0.6333709359169006),\n",
      " ('bruh', 0.5841929912567139),\n",
      " ('nahh', 0.5813834071159363)]\n"
     ]
    }
   ],
   "source": [
    "word = 'ong'\n",
    "print(f'Word = {word}')\n",
    "print('Early 2018:')\n",
    "pprint(ec_embed.most_similar(word, topn=5))\n",
    "print('\\nLate 2022:')\n",
    "pprint(my_embed.most_similar(word, topn=5))"
   ]
  },
  {
   "cell_type": "code",
   "execution_count": 93,
   "metadata": {},
   "outputs": [
    {
     "name": "stdout",
     "output_type": "stream",
     "text": [
      "Word = tft\n",
      "Early 2018:\n",
      "[('ftm', 0.6835049390792847),\n",
      " ('fnatic', 0.6691223382949829),\n",
      " ('valiance', 0.6687248945236206),\n",
      " ('vg', 0.6564218997955322),\n",
      " (\"na'vi\", 0.6558435559272766)]\n",
      "\n",
      "Late 2022:\n",
      "[('valorant', 0.6490270495414734),\n",
      " ('hearthstone', 0.6373392939567566),\n",
      " ('league', 0.624655544757843),\n",
      " ('valo', 0.6167577505111694),\n",
      " ('dbd', 0.6100278496742249)]\n"
     ]
    }
   ],
   "source": [
    "word = 'tft'\n",
    "print(f'Word = {word}')\n",
    "print('Early 2018:')\n",
    "pprint(ec_embed.most_similar(word, topn=5))\n",
    "print('\\nLate 2022:')\n",
    "pprint(my_embed.most_similar(word, topn=5))"
   ]
  },
  {
   "cell_type": "code",
   "execution_count": 56,
   "metadata": {},
   "outputs": [
    {
     "name": "stdout",
     "output_type": "stream",
     "text": [
      "Word = nazi\n",
      "Early 2018:\n",
      "[('fascist', 0.6940041184425354),\n",
      " ('hitler', 0.6691939830780029),\n",
      " ('neo-nazi', 0.6678686738014221),\n",
      " ('communist', 0.652311384677887),\n",
      " ('xenophobe', 0.6463825702667236)]\n",
      "\n",
      "Late 2022:\n",
      "[('fascist', 0.6345600485801697),\n",
      " ('communist', 0.5377800464630127),\n",
      " ('liberal', 0.5354568958282471),\n",
      " ('pedo', 0.5251925587654114),\n",
      " ('pedophile', 0.5056630969047546)]\n"
     ]
    }
   ],
   "source": [
    "word = 'nazi'\n",
    "print(f'Word = {word}')\n",
    "print('Early 2018:')\n",
    "try:\n",
    "    pprint(ec_embed.most_similar(word, topn=5))\n",
    "except:\n",
    "    print('Not present in vocabulary.')\n",
    "print('\\nLate 2022:')\n",
    "try:\n",
    "    pprint(my_embed.most_similar(word, topn=5))\n",
    "except:\n",
    "    print('Not present in vocabulary.')"
   ]
  },
  {
   "attachments": {},
   "cell_type": "markdown",
   "metadata": {},
   "source": [
    "New meanings"
   ]
  },
  {
   "cell_type": "code",
   "execution_count": 31,
   "metadata": {},
   "outputs": [
    {
     "name": "stdout",
     "output_type": "stream",
     "text": [
      "Word = bruh\n",
      "Early 2018:\n",
      "[('lmaoo', 0.8270270824432373),\n",
      " ('lmao', 0.8264647126197815),\n",
      " ('lma\\\\1\\\\1', 0.8260526061058044),\n",
      " ('lmfao', 0.8187956213951111),\n",
      " ('dude', 0.8046270608901978)]\n",
      "\n",
      "Late 2022:\n",
      "[('bro', 0.7603374123573303),\n",
      " ('broo', 0.7248337864875793),\n",
      " ('bruhh', 0.6970949769020081),\n",
      " ('lmao', 0.6763647198677063),\n",
      " ('lmfao', 0.6665611267089844)]\n"
     ]
    }
   ],
   "source": [
    "word = 'bruh'\n",
    "print(f'Word = {word}')\n",
    "print('Early 2018:')\n",
    "pprint(ec_embed.most_similar(word, topn=5))\n",
    "print('\\nLate 2022:')\n",
    "pprint(my_embed.most_similar(word, topn=5))"
   ]
  },
  {
   "cell_type": "code",
   "execution_count": 33,
   "metadata": {},
   "outputs": [
    {
     "name": "stdout",
     "output_type": "stream",
     "text": [
      "Word = gay\n",
      "Early 2018:\n",
      "[('bisexual', 0.7963554263114929),\n",
      " ('homosexual', 0.7890292406082153),\n",
      " ('horny', 0.7743268013000488),\n",
      " ('lesbian', 0.7575783133506775),\n",
      " ('asexual', 0.7413439154624939)]\n",
      "\n",
      "Late 2022:\n",
      "[('racist', 0.6475604772567749),\n",
      " ('homophobic', 0.6261984705924988),\n",
      " ('bisexual', 0.6246201992034912),\n",
      " ('lesbian', 0.6082661151885986),\n",
      " ('trans', 0.6082121133804321)]\n"
     ]
    }
   ],
   "source": [
    "word = 'gay'\n",
    "print(f'Word = {word}')\n",
    "print('Early 2018:')\n",
    "pprint(ec_embed.most_similar(word, topn=5))\n",
    "print('\\nLate 2022:')\n",
    "pprint(my_embed.most_similar(word, topn=5))"
   ]
  },
  {
   "cell_type": "code",
   "execution_count": 40,
   "metadata": {},
   "outputs": [
    {
     "name": "stdout",
     "output_type": "stream",
     "text": [
      "Word = mandate\n",
      "Early 2018:\n",
      "[('magnate', 0.5362988710403442),\n",
      " ('genoa', 0.5304369330406189),\n",
      " ('invitate', 0.5278923511505127),\n",
      " ('dedichi', 0.517254114151001),\n",
      " ('annexation', 0.5139479637145996)]\n",
      "\n",
      "Late 2022:\n",
      "[('liandries', 0.39909812808036804),\n",
      " ('rylai', 0.3920638859272003),\n",
      " ('abysall', 0.3883359432220459),\n",
      " ('qss', 0.38536104559898376),\n",
      " ('rylais', 0.38165608048439026)]\n"
     ]
    }
   ],
   "source": [
    "word = 'mandate'\n",
    "print(f'Word = {word}')\n",
    "print('Early 2018:')\n",
    "pprint(ec_embed.most_similar(word, topn=5))\n",
    "print('\\nLate 2022:')\n",
    "pprint(my_embed.most_similar(word, topn=5))"
   ]
  },
  {
   "attachments": {},
   "cell_type": "markdown",
   "metadata": {},
   "source": [
    "Unchanged meanings"
   ]
  },
  {
   "cell_type": "code",
   "execution_count": 61,
   "metadata": {},
   "outputs": [
    {
     "name": "stdout",
     "output_type": "stream",
     "text": [
      "Word = debate\n",
      "Early 2018:\n",
      "[('discussion', 0.7672012448310852),\n",
      " ('conversation', 0.7255319952964783),\n",
      " ('argument', 0.7147690653800964),\n",
      " ('disagreement', 0.708280622959137),\n",
      " ('convo', 0.7039156556129456)]\n",
      "\n",
      "Late 2022:\n",
      "[('discussion', 0.6500672101974487),\n",
      " ('conversation', 0.5961875915527344),\n",
      " ('argument', 0.5685128569602966),\n",
      " ('convo', 0.5614274144172668),\n",
      " ('rant', 0.49557769298553467)]\n"
     ]
    }
   ],
   "source": [
    "word = 'debate'\n",
    "print(f'Word = {word}')\n",
    "print('Early 2018:')\n",
    "pprint(ec_embed.most_similar(word, topn=5))\n",
    "print('\\nLate 2022:')\n",
    "pprint(my_embed.most_similar(word, topn=5))"
   ]
  },
  {
   "cell_type": "code",
   "execution_count": 49,
   "metadata": {},
   "outputs": [
    {
     "name": "stdout",
     "output_type": "stream",
     "text": [
      "Word = year\n",
      "Early 2018:\n",
      "[('week', 0.8601747155189514),\n",
      " ('years', 0.8299892544746399),\n",
      " ('month', 0.8273553252220154),\n",
      " ('yr', 0.8206229209899902),\n",
      " ('day', 0.798405110836029)]\n",
      "\n",
      "Late 2022:\n",
      "[('week', 0.7725321054458618),\n",
      " ('month', 0.7188349366188049),\n",
      " ('yr', 0.7083409428596497),\n",
      " ('years', 0.695040762424469),\n",
      " ('decade', 0.6368394494056702)]\n"
     ]
    }
   ],
   "source": [
    "word = 'year'\n",
    "print(f'Word = {word}')\n",
    "print('Early 2018:')\n",
    "pprint(ec_embed.most_similar(word, topn=5))\n",
    "print('\\nLate 2022:')\n",
    "pprint(my_embed.most_similar(word, topn=5))"
   ]
  },
  {
   "cell_type": "code",
   "execution_count": 48,
   "metadata": {},
   "outputs": [
    {
     "name": "stdout",
     "output_type": "stream",
     "text": [
      "Word = internet\n",
      "Early 2018:\n",
      "[('wifi', 0.8583606481552124),\n",
      " ('isp', 0.8039506077766418),\n",
      " ('computer', 0.8027212023735046),\n",
      " ('connection', 0.7891113758087158),\n",
      " ('router', 0.767777144908905)]\n",
      "\n",
      "Late 2022:\n",
      "[('wifi', 0.6884805560112),\n",
      " ('isp', 0.5936806201934814),\n",
      " ('internets', 0.572384238243103),\n",
      " ('connection', 0.5558504462242126),\n",
      " ('wi-fi', 0.554517924785614)]\n"
     ]
    }
   ],
   "source": [
    "word = 'internet'\n",
    "print(f'Word = {word}')\n",
    "print('Early 2018:')\n",
    "pprint(ec_embed.most_similar(word, topn=5))\n",
    "print('\\nLate 2022:')\n",
    "pprint(my_embed.most_similar(word, topn=5))"
   ]
  }
 ],
 "metadata": {
  "kernelspec": {
   "display_name": "Python 3",
   "language": "python",
   "name": "python3"
  },
  "language_info": {
   "codemirror_mode": {
    "name": "ipython",
    "version": 3
   },
   "file_extension": ".py",
   "mimetype": "text/x-python",
   "name": "python",
   "nbconvert_exporter": "python",
   "pygments_lexer": "ipython3",
   "version": "3.9.13"
  },
  "orig_nbformat": 4,
  "vscode": {
   "interpreter": {
    "hash": "a3deea60006abea4783390f213adebd6836966db637e5dfe493c1abe5c82560f"
   }
  }
 },
 "nbformat": 4,
 "nbformat_minor": 2
}
