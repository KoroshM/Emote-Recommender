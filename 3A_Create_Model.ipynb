{
 "cells": [
  {
   "cell_type": "code",
   "execution_count": 1,
   "metadata": {},
   "outputs": [],
   "source": [
    "import pandas as pd\n",
    "import numpy as np\n",
    "import pickle"
   ]
  },
  {
   "cell_type": "code",
   "execution_count": null,
   "metadata": {},
   "outputs": [],
   "source": [
    "# Read cleaned corpus\n",
    "with open('vocab_counts.txt','rb') as f:\n",
    "   vocab = pickle.load(f)\n",
    "\n",
    "with open('corpus_clean.txt','rb') as f:\n",
    "   corpus = pickle.load(f)\n",
    "\n",
    "print('vocab',type(vocab),len(vocab))\n",
    "print('corpus',type(corpus),len(corpus))"
   ]
  },
  {
   "cell_type": "code",
   "execution_count": 1,
   "metadata": {},
   "outputs": [],
   "source": [
    "from .Tokenizer import TwitchTokenizer\n",
    "\n",
    "tokenizer = TwitchTokenizer()"
   ]
  },
  {
   "attachments": {},
   "cell_type": "markdown",
   "metadata": {},
   "source": [
    "# Tokenizing the corpus"
   ]
  },
  {
   "attachments": {},
   "cell_type": "markdown",
   "metadata": {},
   "source": [
    "The code below is formatted for multiple corpuses, allowing for easy training of multiple models using different corpuses"
   ]
  },
  {
   "cell_type": "code",
   "execution_count": 44,
   "metadata": {},
   "outputs": [],
   "source": [
    "import pandas as pd\n",
    "\n",
    "path = r\"PATH/TO/CORPUS/FILES/\"\n",
    "corpus_files = ['corpus_raw.txt'] # List all corpus files of interest\n",
    "corpi = []\n",
    "\n",
    "for corpus_file in corpus_files:\n",
    "    corpi.append(pd.read_csv(path+corpus_file, delimiter='\\n', header=None, dtype=str, na_filter=False))"
   ]
  },
  {
   "cell_type": "code",
   "execution_count": null,
   "metadata": {},
   "outputs": [],
   "source": [
    "# Example tokenizer output\n",
    "ex = tokenizer.tokenize('POG that was 5head!!! HOLY sheeeEEEeEeEeSH wooooow')\n",
    "print(ex)"
   ]
  },
  {
   "cell_type": "code",
   "execution_count": null,
   "metadata": {},
   "outputs": [],
   "source": [
    "from tqdm import tqdm\n",
    "\n",
    "tok_corps = [] # Tokenized corpuses\n",
    "\n",
    "for corpus in corpi: # Tokenize each corpus\n",
    "    tok_corp = []\n",
    "    for msg in tqdm(corpus[0]):\n",
    "        tok_corp.append(tokenizer.tokenize(str(msg)))\n",
    "    tok_corps.append(tok_corp)\n",
    "            \n",
    "    if(len(tok_corp) == len(corpus)):\n",
    "        print('Tokenize success')\n",
    "    else:\n",
    "        print('Tokenized:', len(tok_corp))\n",
    "        print('Corpus:',len(corpus))"
   ]
  },
  {
   "cell_type": "code",
   "execution_count": 4,
   "metadata": {},
   "outputs": [],
   "source": [
    "import csv\n",
    "# Save using CSV Writer to avoid errors\n",
    "with open('tokenized_raw_corpus.csv', 'w', newline='', encoding='utf-8-sig') as f:\n",
    "    writer = csv.writer(f)\n",
    "    for row in tok_corp:\n",
    "        writer.writerow(row)"
   ]
  },
  {
   "cell_type": "code",
   "execution_count": 2,
   "metadata": {},
   "outputs": [],
   "source": [
    "import csv\n",
    "# Load\n",
    "with open(\"Corpus/tokenized_raw_corpus.csv\", \"r\", encoding=\"utf-8-sig\") as f:\n",
    "    corp = csv.reader(f)\n",
    "    tok_corp = [row for row in corp]"
   ]
  },
  {
   "attachments": {},
   "cell_type": "markdown",
   "metadata": {},
   "source": [
    "# Creating the model"
   ]
  },
  {
   "cell_type": "code",
   "execution_count": null,
   "metadata": {},
   "outputs": [],
   "source": [
    "import gensim\n",
    "\n",
    "models = []\n",
    "\n",
    "# for tok_corp in tok_corps:\n",
    "# Train a Word2Vec model on the tokens\n",
    "model = gensim.models.Word2Vec(tok_corp, vector_size=500, window=5, min_count=10, workers=6)\n",
    "\n",
    "# Train the model\n",
    "model.train(tok_corp, total_examples=len(tok_corp), epochs=20)\n",
    "\n",
    "models.append(model)"
   ]
  },
  {
   "cell_type": "code",
   "execution_count": 42,
   "metadata": {},
   "outputs": [],
   "source": [
    "m_name = 'Name Your Model Here'"
   ]
  },
  {
   "cell_type": "code",
   "execution_count": 43,
   "metadata": {},
   "outputs": [],
   "source": [
    "model.save('models/'+m_name+'/model')"
   ]
  },
  {
   "cell_type": "code",
   "execution_count": null,
   "metadata": {},
   "outputs": [],
   "source": [
    "tok_corp[0] # Print first tokenized line as an example"
   ]
  },
  {
   "attachments": {},
   "cell_type": "markdown",
   "metadata": {},
   "source": [
    "# Create the metadata for TensorFlow's Embedding Projector"
   ]
  },
  {
   "cell_type": "code",
   "execution_count": 11,
   "metadata": {},
   "outputs": [],
   "source": [
    "import gensim\n",
    "folder = 'models/'\n",
    "models = ['List of model names']\n",
    "\n",
    "for m in models:\n",
    "    # Load model\n",
    "    path = folder+m\n",
    "    model = gensim.models.Word2Vec.load(path+'/model')\n",
    "\n",
    "    batch_size = 1000\n",
    "    word_index = 0\n",
    "\n",
    "    # Create metadata based on vocab seen in models\n",
    "    with open(path+'/!embeddings_'+m+'.tsv', 'w', encoding='utf-8-sig') as tensors:\n",
    "        with open(path+'/!metadata_'+m+'.tsv', 'w', encoding='utf-8-sig') as metadata:\n",
    "            while word_index < len(model.wv.index_to_key):\n",
    "                batch_words = model.wv.index_to_key[word_index:word_index + batch_size]\n",
    "                for word in batch_words:\n",
    "                    encoded=word.encode('utf-8-sig')\n",
    "                    metadata.write(word + '\\n')\n",
    "                    vector_row = '\\t'.join(map(str, model.wv[word]))\n",
    "                    tensors.write(vector_row + '\\n')\n",
    "                word_index += batch_size\n",
    "                # Clear memory\n",
    "                del batch_words"
   ]
  }
 ],
 "metadata": {
  "kernelspec": {
   "display_name": "Python 3",
   "language": "python",
   "name": "python3"
  },
  "language_info": {
   "codemirror_mode": {
    "name": "ipython",
    "version": 3
   },
   "file_extension": ".py",
   "mimetype": "text/x-python",
   "name": "python",
   "nbconvert_exporter": "python",
   "pygments_lexer": "ipython3",
   "version": "3.9.13"
  },
  "orig_nbformat": 4,
  "vscode": {
   "interpreter": {
    "hash": "a3deea60006abea4783390f213adebd6836966db637e5dfe493c1abe5c82560f"
   }
  }
 },
 "nbformat": 4,
 "nbformat_minor": 2
}
